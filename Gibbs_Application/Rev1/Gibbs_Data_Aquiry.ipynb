{
 "metadata": {
  "language_info": {
   "codemirror_mode": {
    "name": "ipython",
    "version": 3
   },
   "file_extension": ".py",
   "mimetype": "text/x-python",
   "name": "python",
   "nbconvert_exporter": "python",
   "pygments_lexer": "ipython3",
   "version": "3.8.5-final"
  },
  "orig_nbformat": 2,
  "kernelspec": {
   "name": "python38564bitc68f5aeea7ee40d38ef8bf0ba63395bf",
   "display_name": "Python 3.8.5 64-bit"
  }
 },
 "nbformat": 4,
 "nbformat_minor": 2,
 "cells": [
  {
   "cell_type": "code",
   "execution_count": 1,
   "metadata": {},
   "outputs": [],
   "source": [
    "from bs4 import BeautifulSoup\n",
    "import urllib3\n",
    "import pandas as pd"
   ]
  },
  {
   "cell_type": "code",
   "execution_count": 2,
   "metadata": {
    "tags": []
   },
   "outputs": [],
   "source": [
    "http = urllib3.PoolManager()\n",
    "r = http.request('GET', 'https://webbook.nist.gov/cgi/cbook.cgi?ID=C1344543&Units=SI&Mask=2#Thermo-Condensed')\n",
    "\n",
    "soup = BeautifulSoup(r.data)\n",
    "#print(soup.prettify())"
   ]
  },
  {
   "cell_type": "code",
   "execution_count": 3,
   "metadata": {
    "tags": []
   },
   "outputs": [],
   "source": [
    "tables = soup.main.find_all('table')\n",
    "\n",
    "#print(len(tables))\n",
    "\n",
    "#for item in tables:\n",
    "#    print('NEW TABLE')\n",
    "#    print(item)\n",
    "#    print('')"
   ]
  },
  {
   "cell_type": "code",
   "execution_count": 8,
   "metadata": {},
   "outputs": [],
   "source": [
    "headers = []\n",
    "content = []\n",
    "\n",
    "for item in tables:\n",
    "    if 'Temperature (K)' in item.text:\n",
    "        grab_headers = tables[1].find_all('th')\n",
    "        grab_content = tables[1].find_all('td')\n",
    "\n",
    "for item in grab_headers[:-2]:\n",
    "    headers.append(item.text)\n",
    "\n",
    "for item in grab_content[:-2]:\n",
    "    content.append(item.text)"
   ]
  },
  {
   "cell_type": "code",
   "execution_count": 9,
   "metadata": {},
   "outputs": [
    {
     "output_type": "stream",
     "name": "stdout",
     "text": [
      "                                0\nTemperature (K)     2115. - 3500.\nA                        156.9000\nB                -3.463525×10(-7)\nC                 1.111442×10(-7)\nD                -1.230645×10(-8)\nE                -1.814551×10(-7)\nF                       -1484.801\nG                        280.8318\nH                       -1418.460\n"
     ]
    }
   ],
   "source": [
    "data = pd.DataFrame(data=content, index=headers)\n",
    "\n",
    "print(data)"
   ]
  },
  {
   "cell_type": "code",
   "execution_count": null,
   "metadata": {},
   "outputs": [],
   "source": []
  }
 ]
}