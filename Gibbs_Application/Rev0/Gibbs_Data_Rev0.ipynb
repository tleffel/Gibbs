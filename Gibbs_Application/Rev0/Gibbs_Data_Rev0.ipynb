{
 "metadata": {
  "language_info": {
   "codemirror_mode": {
    "name": "ipython",
    "version": 3
   },
   "file_extension": ".py",
   "mimetype": "text/x-python",
   "name": "python",
   "nbconvert_exporter": "python",
   "pygments_lexer": "ipython3",
   "version": "3.8.5-final"
  },
  "orig_nbformat": 2,
  "kernelspec": {
   "name": "python38564bitc68f5aeea7ee40d38ef8bf0ba63395bf",
   "display_name": "Python 3.8.5 64-bit"
  }
 },
 "nbformat": 4,
 "nbformat_minor": 2,
 "cells": [
  {
   "source": [
    "# Gibbs Data Retrieval Rev0\n",
    "## Last edited 6/7/2021\n",
    "## by Troy Leffel\n",
    "\n",
    "### **Only works for single dataset materials"
   ],
   "cell_type": "markdown",
   "metadata": {}
  },
  {
   "cell_type": "code",
   "execution_count": 12,
   "metadata": {},
   "outputs": [],
   "source": [
    "from selenium import webdriver\n",
    "from bs4 import BeautifulSoup\n",
    "import urllib3\n",
    "import pandas as pd\n",
    "import re"
   ]
  },
  {
   "source": [
    "### Get desired chemical formula"
   ],
   "cell_type": "markdown",
   "metadata": {}
  },
  {
   "cell_type": "code",
   "execution_count": 2,
   "metadata": {},
   "outputs": [],
   "source": [
    "formula = input()"
   ]
  },
  {
   "source": [
    "### Open web driver to NIST chemical formula search page"
   ],
   "cell_type": "markdown",
   "metadata": {}
  },
  {
   "cell_type": "code",
   "execution_count": 3,
   "metadata": {},
   "outputs": [],
   "source": [
    "driver = webdriver.Firefox()\n",
    "driver.get('https://webbook.nist.gov/chemistry/form-ser/')"
   ]
  },
  {
   "source": [
    "### Search for chemical formula from input"
   ],
   "cell_type": "markdown",
   "metadata": {}
  },
  {
   "cell_type": "code",
   "execution_count": 4,
   "metadata": {},
   "outputs": [],
   "source": [
    "id_box = driver.find_element_by_id('Formula')\n",
    "search_btn = driver.find_element_by_id('SearchButton')\n",
    "id_box.send_keys(formula)\n",
    "search_btn.click()"
   ]
  },
  {
   "source": [
    "### Find desired data set and open page"
   ],
   "cell_type": "markdown",
   "metadata": {}
  },
  {
   "cell_type": "code",
   "execution_count": 5,
   "metadata": {},
   "outputs": [],
   "source": [
    "search_url = driver.current_url\n",
    "\n",
    "search_http = urllib3.PoolManager()\n",
    "search_r = search_http.request('GET', search_url)\n",
    "\n",
    "search_soup = BeautifulSoup(search_r.data)"
   ]
  },
  {
   "cell_type": "code",
   "execution_count": 6,
   "metadata": {},
   "outputs": [
    {
     "output_type": "stream",
     "name": "stdout",
     "text": [
      "NEW ITEM\n1) dititanium trioxide\n\nNEW ITEM\n2) Titanium(iii) oxide/nickel titanium\n\nSelect desired item number\n"
     ]
    }
   ],
   "source": [
    "lst_a = search_soup.main.find_all('a')\n",
    "\n",
    "# print(len(tables))\n",
    "\n",
    "i = 0\n",
    "for item in lst_a:\n",
    "    i+=1\n",
    "    print('NEW ITEM')\n",
    "    print(str(i) + ') ' + item.text)\n",
    "    print('')\n",
    "\n",
    "print('Select desired item number')\n",
    "selection = input()"
   ]
  },
  {
   "cell_type": "code",
   "execution_count": 7,
   "metadata": {},
   "outputs": [],
   "source": [
    "select_btn = driver.find_element_by_link_text(lst_a[int(selection)-1].text)\n",
    "\n",
    "select_btn.click()"
   ]
  },
  {
   "cell_type": "code",
   "execution_count": 8,
   "metadata": {},
   "outputs": [],
   "source": [
    "data_btn = driver.find_element_by_link_text('Condensed phase thermochemistry data')\n",
    "\n",
    "data_btn.click()"
   ]
  },
  {
   "source": [
    "### Extract URL"
   ],
   "cell_type": "markdown",
   "metadata": {}
  },
  {
   "cell_type": "code",
   "execution_count": 9,
   "metadata": {},
   "outputs": [],
   "source": [
    "url = driver.current_url\n",
    "\n",
    "#print(url)"
   ]
  },
  {
   "source": [
    "### Extract html from website"
   ],
   "cell_type": "markdown",
   "metadata": {}
  },
  {
   "cell_type": "code",
   "execution_count": 10,
   "metadata": {},
   "outputs": [],
   "source": [
    "http = urllib3.PoolManager()\n",
    "r = http.request('GET', url)\n",
    "\n",
    "soup = BeautifulSoup(r.data)\n",
    "#print(soup.prettify())"
   ]
  },
  {
   "source": [
    "### Extract all tables from html"
   ],
   "cell_type": "markdown",
   "metadata": {}
  },
  {
   "cell_type": "code",
   "execution_count": 14,
   "metadata": {},
   "outputs": [
    {
     "output_type": "stream",
     "name": "stdout",
     "text": [
      "0\n"
     ]
    }
   ],
   "source": [
    "tables = soup.main.find_all('table', attrs={'aria-label': re.compile(r'(Shomate Equation)$')})\n",
    "\n",
    "print(len(tables))\n",
    "\n",
    "for item in tables:\n",
    "    print('NEW TABLE')\n",
    "    print(item)\n",
    "    print('')"
   ]
  },
  {
   "source": [
    "### Isolate desire data"
   ],
   "cell_type": "markdown",
   "metadata": {}
  },
  {
   "cell_type": "code",
   "execution_count": 12,
   "metadata": {},
   "outputs": [],
   "source": [
    "headers = []\n",
    "content = []\n",
    "\n",
    "for item in tables:\n",
    "    if 'Temperature (K)' in item.text:\n",
    "        grab_headers = tables[1].find_all('th')\n",
    "        grab_content = tables[1].find_all('td')\n",
    "\n",
    "for item in grab_headers[:-2]:\n",
    "    headers.append(item.text)\n",
    "\n",
    "for item in grab_content[:-2]:\n",
    "    content.append(item.text)"
   ]
  },
  {
   "source": [
    "### Create Data Frame of desired data"
   ],
   "cell_type": "markdown",
   "metadata": {}
  },
  {
   "cell_type": "code",
   "execution_count": 13,
   "metadata": {},
   "outputs": [
    {
     "output_type": "stream",
     "name": "stdout",
     "text": [
      "                                0\nTemperature (K)     2115. - 3500.\nA                        156.9000\nB                -3.463525×10(-7)\nC                 1.111442×10(-7)\nD                -1.230645×10(-8)\nE                -1.814551×10(-7)\nF                       -1484.801\nG                        280.8318\nH                       -1418.460\n"
     ]
    }
   ],
   "source": [
    "data = pd.DataFrame(data=content, index=headers)\n",
    "\n",
    "print(data)"
   ]
  },
  {
   "cell_type": "code",
   "execution_count": null,
   "metadata": {},
   "outputs": [],
   "source": []
  }
 ]
}